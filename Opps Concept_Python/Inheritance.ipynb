{
 "cells": [
  {
   "cell_type": "markdown",
   "metadata": {},
   "source": [
    "# What Is Inheritance?\n",
    "The method of inheriting the properties of parent class into a child class is known as inheritance. It is an OOP concept. Following are the benefits of inheritance.\n",
    "\n",
    "Code reusability- we do not have to write the same code again and again, we can just inherit the properties we need in a child class.\n",
    "\n",
    "It represents a real world relationship between parent class and child class.\n",
    "\n",
    "It is transitive in nature. If a child class inherits properties from a parent class, then all other sub-classes of the child class will also inherit the properties of the parent class."
   ]
  },
  {
   "cell_type": "code",
   "execution_count": 1,
   "metadata": {},
   "outputs": [
    {
     "name": "stdout",
     "output_type": "stream",
     "text": [
      "first function\n",
      "second function\n"
     ]
    }
   ],
   "source": [
    "class Parent():\n",
    "       def first(self):\n",
    "           print('first function')\n",
    " \n",
    "class Child(Parent):\n",
    "       def second(self):\n",
    "          print('second function')\n",
    " \n",
    "ob = Child()\n",
    "ob.first()\n",
    "ob.second()"
   ]
  },
  {
   "cell_type": "markdown",
   "metadata": {},
   "source": [
    "# Sub-classing \n",
    "Calling a constructor of the parent class by mentioning the parent class name in the declaration of the child class is known as sub-classing. A child class identifies its parent class by sub-classing.\n",
    "\n",
    "__init__( ) Function\n",
    "The __init__() function is called every time a class is being used to make an object. When we add the __init__() function in a parent class, the child class will no longer be able to inherit the parent class’s __init__() function. The child’s class __init__() function overrides the parent class’s __init__() function.\n"
   ]
  },
  {
   "cell_type": "code",
   "execution_count": 2,
   "metadata": {},
   "outputs": [
    {
     "name": "stdout",
     "output_type": "stream",
     "text": [
      "course name Python first came 28  years ago. edureka  has courses to master python\n"
     ]
    }
   ],
   "source": [
    "class Parent:\n",
    "     def __init__(self , fname, fage):\n",
    "          self.firstname = fname\n",
    "          self.age = fage\n",
    "     def view(self):\n",
    "         print(self.firstname , self.age)\n",
    "class Child(Parent):\n",
    "     def __init__(self , fname , fage):\n",
    "          Parent.__init__(self, fname, fage)\n",
    "          self.lastname = \"edureka\"\n",
    "     def view(self):\n",
    "          print(\"course name\" , self.firstname ,\"first came\",  self.age , \" years ago.\" , self.lastname, \" has courses to master python\")\n",
    "ob = Child(\"Python\" , '28')\n",
    "ob.view()"
   ]
  },
  {
   "cell_type": "markdown",
   "metadata": {},
   "source": [
    "# Types Of Inheritance\n",
    "Depending upon the number of child and parent classes involved, there are four types of inheritance in python.\n"
   ]
  },
  {
   "cell_type": "code",
   "execution_count": 3,
   "metadata": {},
   "outputs": [
    {
     "name": "stdout",
     "output_type": "stream",
     "text": [
      "this is function one\n",
      " this is function 2 \n"
     ]
    }
   ],
   "source": [
    "#Single Inheritance\n",
    "\n",
    "class Parent:\n",
    "     def func1(self):\n",
    "          print(\"this is function one\")\n",
    "class Child(Parent):\n",
    "     def func2(self):\n",
    "          print(\" this is function 2 \")\n",
    "ob = Child()\n",
    "ob.func1()\n",
    "ob.func2()"
   ]
  },
  {
   "cell_type": "code",
   "execution_count": null,
   "metadata": {},
   "outputs": [],
   "source": [
    "#Multiple Inheritance\n",
    "class Parent:\n",
    "   def func1(self):\n",
    "        print(\"this is function 1\")\n",
    "class Parent2:\n",
    "   def func2(self):\n",
    "        print(\"this is function 2\")\n",
    "class Child(Parent , Parent2):\n",
    "    def func3(self):\n",
    "        print(\"this is function 3\")\n",
    " \n",
    "ob = Child()\n",
    "ob.func1()\n",
    "ob.func2()\n",
    "ob.func3()"
   ]
  },
  {
   "cell_type": "code",
   "execution_count": null,
   "metadata": {},
   "outputs": [],
   "source": [
    "#Multilevel Inheritance\n",
    "class Parent:\n",
    "      def func1(self):\n",
    "          print(\"this is function 1\")\n",
    "class Child(Parent):\n",
    "      def func2(self):\n",
    "          print(\"this is function 2\")\n",
    "class Child2(Child):\n",
    "      def func3(self):\n",
    "            print(\"this is function 3\")           \n",
    "ob = Child2()\n",
    "ob.func1()\n",
    "ob.func2()\n",
    "ob.func3()"
   ]
  },
  {
   "cell_type": "code",
   "execution_count": null,
   "metadata": {},
   "outputs": [],
   "source": [
    "#Hierarchical Inheritance\n",
    "class Parent:\n",
    "      def func1(self):\n",
    "          print(\"this is function 1\")\n",
    "class Child(Parent):\n",
    "      def func2(self):\n",
    "          print(\"this is function 2\")\n",
    "class Child2(Parent):\n",
    "      def func3(self):\n",
    "          print(\"this is function 3\")\n",
    " \n",
    "ob = Child()\n",
    "ob1 = Child2()\n",
    "ob.func1()\n",
    "ob.func2()"
   ]
  },
  {
   "cell_type": "code",
   "execution_count": null,
   "metadata": {},
   "outputs": [],
   "source": [
    "#Hybrid Inheritance\n",
    "\n",
    "class Parent:\n",
    "     def func1(self):\n",
    "         print(\"this is function one\")\n",
    " \n",
    "class Child(Parent):\n",
    "     def func2(self):\n",
    "         print(\"this is function 2\")\n",
    " \n",
    "class Child1(Parent):\n",
    "     def func3(self):\n",
    "         print(\" this is function 3\")\n",
    " \n",
    "class Child3(Parent , Child1):\n",
    "     def func4(self):\n",
    "         print(\" this is function 4\")\n",
    " \n",
    "ob = Child3()\n",
    "ob.func1()\n"
   ]
  },
  {
   "cell_type": "code",
   "execution_count": null,
   "metadata": {},
   "outputs": [],
   "source": [
    "#Python SuperClass\n",
    "class Parent:\n",
    "     def func1(self):\n",
    "         print(\"this is function 1\")\n",
    "class Child(Parent):\n",
    "     def func2(self):\n",
    "          Super().func1()\n",
    "          print(\"this is function 2\")\n",
    " \n",
    "ob = Child()\n",
    "ob.func2()"
   ]
  },
  {
   "cell_type": "code",
   "execution_count": null,
   "metadata": {},
   "outputs": [],
   "source": [
    "#Python Method Overriding\n",
    "#Method Overriding\n",
    "class Parent:\n",
    "    def func1(self):\n",
    "        print(\"this is parent function\")\n",
    " \n",
    "class Child(Parent):\n",
    "    def func1(self):\n",
    "        print(\"this is child function\")\n",
    " \n",
    "ob = Child()\n",
    "ob.func1()"
   ]
  },
  {
   "cell_type": "code",
   "execution_count": null,
   "metadata": {},
   "outputs": [],
   "source": []
  }
 ],
 "metadata": {
  "kernelspec": {
   "display_name": "Python 3",
   "language": "python",
   "name": "python3"
  },
  "language_info": {
   "codemirror_mode": {
    "name": "ipython",
    "version": 3
   },
   "file_extension": ".py",
   "mimetype": "text/x-python",
   "name": "python",
   "nbconvert_exporter": "python",
   "pygments_lexer": "ipython3",
   "version": "3.7.3"
  }
 },
 "nbformat": 4,
 "nbformat_minor": 2
}
